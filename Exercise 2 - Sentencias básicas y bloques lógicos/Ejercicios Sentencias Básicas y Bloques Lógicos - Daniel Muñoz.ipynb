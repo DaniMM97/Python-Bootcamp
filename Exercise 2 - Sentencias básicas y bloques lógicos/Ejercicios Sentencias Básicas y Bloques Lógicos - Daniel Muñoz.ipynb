{
 "cells": [
  {
   "cell_type": "markdown",
   "id": "6c517a31-6abf-4859-8c9f-5fac5dac5fa6",
   "metadata": {},
   "source": [
    "# Completa las celdas vacías implementando la funcionalidad pedida"
   ]
  },
  {
   "cell_type": "markdown",
   "id": "05a98513-322f-43f7-9542-d4b9969df69c",
   "metadata": {},
   "source": [
    "## 1) Escrible un código que imprima \"Hola Mundo\""
   ]
  },
  {
   "cell_type": "code",
   "execution_count": 1,
   "id": "e62bb91a-b35f-4dcd-96f4-b99b7b29de4d",
   "metadata": {},
   "outputs": [
    {
     "name": "stdout",
     "output_type": "stream",
     "text": [
      "Hola Mundo\n"
     ]
    }
   ],
   "source": [
    "print('Hola Mundo')"
   ]
  },
  {
   "cell_type": "markdown",
   "id": "f83aa014-3eac-45c6-be28-7b0d85126712",
   "metadata": {},
   "source": [
    "## 2) Creación y uso de variables simples\n",
    "Crea una variable numérica con valor 10\n",
    "\n",
    "Crea una variable de tipo cadena de caracteres con valor \"abcd\"\n",
    "\n",
    "Imprime el valor y el tipo de cada una de ellas\n",
    "\n",
    "Imprime un string que sea resultado de unir ambas variables con una \"_\" de por medio, no olvides realizar los casting que sean necesarios para que la concatenación pueda funcionar, la salida tendría que quedar estilo \"10_abcd\"\n",
    "\n",
    "Luego elimina ambas variables"
   ]
  },
  {
   "cell_type": "code",
   "execution_count": 4,
   "id": "ce231f2b-877f-4da2-9f31-d9d2d6f2ed88",
   "metadata": {
    "scrolled": true
   },
   "outputs": [
    {
     "name": "stdout",
     "output_type": "stream",
     "text": [
      "Valor: 10\n",
      "Valor: abcd\n",
      "Tipo: <class 'int'>\n",
      "Tipo: <class 'str'>\n",
      "Concatenación: 10_abcd\n"
     ]
    }
   ],
   "source": [
    "var_number = 10\n",
    "var_string = 'abcd'\n",
    "\n",
    "print('Valor:', var_number)\n",
    "print('Valor:', var_string)\n",
    "print('Tipo:', type(var_number))\n",
    "print('Tipo:', type(var_string))\n",
    "\n",
    "combinacion = str(var_number) + '_' + var_string\n",
    "print('Concatenación:', combinacion)\n",
    "\n",
    "del var_number\n",
    "del var_string"
   ]
  },
  {
   "cell_type": "markdown",
   "id": "f25421da-ef26-47bb-94d3-b2f5ed6dedf5",
   "metadata": {},
   "source": [
    "## 3) Trabajando con números\n",
    "Crea dos variables, una llamanda num_1 con valor 5 y otra llamada num_2 con valor 10.5\n",
    "\n",
    "Calcula lo siguiente:\n",
    "\n",
    "((num_1 - num_2)**num_1)*12.5\n",
    "\n",
    "Almacena el resultado de la operación anterior en una variable llamada num_res\n",
    "\n",
    "Calcula el resultado de dividir el valor absoluto de num_res entre 12.22 y actualiza el valor de num_res con este nuevo resultado\n",
    "\n",
    "Redondea el número num_res a 2 cifras decimales\n",
    "\n",
    "Crea una nueva variable llamada num_res_int que contenga el suelo entero de valor actual de num_res"
   ]
  },
  {
   "cell_type": "code",
   "execution_count": 31,
   "id": "e833ee05-4d15-4f88-aa76-73f37c38b0a5",
   "metadata": {},
   "outputs": [
    {
     "name": "stdout",
     "output_type": "stream",
     "text": [
      "-343.75\n",
      "28.130114566284778\n",
      "28.13\n",
      "28\n"
     ]
    }
   ],
   "source": [
    "num_1 = 5\n",
    "num_2 = 10.5\n",
    "\n",
    "# Dependiendo del editor de código que use el enunciado es: \"- num_2)*num_1\" o \"- num_2)**num_1\", solo\n",
    "# sería añadir un '*', el resto de código no cambia, solo los resultados numéricos.\n",
    "num_res = ((num_1 - num_2)*num_1)*12.5\n",
    "print(num_res)\n",
    "\n",
    "div = abs(num_res) / 12.22\n",
    "num_res = div\n",
    "print(num_res)\n",
    "\n",
    "num_res = round(num_res, 2)\n",
    "print(num_res)\n",
    "\n",
    "num_res_int = int(num_res)\n",
    "print(num_res_int)"
   ]
  },
  {
   "cell_type": "markdown",
   "id": "db4604f2-e8ed-482b-9b82-ca031f384503",
   "metadata": {},
   "source": [
    "## 4) Trabajando con strings\n",
    "\n",
    "Crea una variable llamada string_1 que contenga el texto:\n",
    "\n",
    "<i>\"La astrofísica es el desarrollo y estudio de la física aplicada a la astronomía.<br>\n",
    "Estudia las estrellas, los planetas, las galaxias, los agujeros negros y demás objetos astronómicos como cuerpos de la física, incluyendo su composición, estructura y evolución. <br>\n",
    "La astrofísica emplea la física para explicar las propiedades y fenómenos de los cuerpos estelares a través de sus leyes, fórmulas y magnitudes.\"</I>\n",
    "\n",
    "Recuerda introducir el caracter especial correspondiente para que se respeten los saltos de línea especificados\n",
    "\n",
    "Luego haz lo siguiente:\n",
    "<li> Imprime el texto completo\n",
    "<li> Imprime la longitud del texto\n",
    "<li> Imprime los caracteres con índices del 1 al 6\n",
    "<li> Imprime los caracteres desde el 6 al final\n",
    "<li> Imprime si la secuencia de caracteres \"WAF\" se encuentra o no en el texto (True o False)\n",
    "<li> Imprime una versión del string con todos sus caracteres en minúscula"
   ]
  },
  {
   "cell_type": "code",
   "execution_count": 12,
   "id": "1061baf9-b723-4851-9991-5867f946e0b7",
   "metadata": {},
   "outputs": [
    {
     "name": "stdout",
     "output_type": "stream",
     "text": [
      "Texto completo:\n",
      " La astrofísica es el desarrollo y estudio de la física aplicada a la astronomía.\n",
      "Estudia las estrellas, los planetas, las galaxias, los agujeros negros y demás objetos astronómicos como cuerpos de la física, incluyendo su composición, estructura y evolución.\n",
      "La astrofísica emplea la física para explicar las propiedades y fenómenos de los cuerpos estelares a través de sus leyes, fórmulas y magnitudes.\n",
      "\n",
      "Longitud del texto: 403\n",
      "\n",
      "Caracterers del 1 al 6: La ast\n",
      "\n",
      "Caracteres desde 6 al final: trofísica es el desarrollo y estudio de la física aplicada a la astronomía.\n",
      "Estudia las estrellas, los planetas, las galaxias, los agujeros negros y demás objetos astronómicos como cuerpos de la física, incluyendo su composición, estructura y evolución.\n",
      "La astrofísica emplea la física para explicar las propiedades y fenómenos de los cuerpos estelares a través de sus leyes, fórmulas y magnitudes.\n",
      "\n",
      "WAF en texto: False\n",
      "\n",
      "Todo en minúscula: la astrofísica es el desarrollo y estudio de la física aplicada a la astronomía.\n",
      "estudia las estrellas, los planetas, las galaxias, los agujeros negros y demás objetos astronómicos como cuerpos de la física, incluyendo su composición, estructura y evolución.\n",
      "la astrofísica emplea la física para explicar las propiedades y fenómenos de los cuerpos estelares a través de sus leyes, fórmulas y magnitudes.\n"
     ]
    }
   ],
   "source": [
    "string_1 = \"La astrofísica es el desarrollo y estudio de la física aplicada a la astronomía.\\nEstudia las estrellas, los planetas, las galaxias, los agujeros negros y demás objetos astronómicos como cuerpos de la física, incluyendo su composición, estructura y evolución.\\nLa astrofísica emplea la física para explicar las propiedades y fenómenos de los cuerpos estelares a través de sus leyes, fórmulas y magnitudes.\"\n",
    "\n",
    "print('Texto completo:\\n', string_1)\n",
    "\n",
    "print('\\nLongitud del texto:', len(string_1))\n",
    "\n",
    "print('\\nCaracterers del 1 al 6:', string_1[0:6])         # Incluimos los 6 primeros caracteres (0,1,2,3,4,5)\n",
    "\n",
    "print('\\nCaracteres desde 6 al final:', string_1[5:])     # El caracter 6 es el índice 5 (comienza a contar en 0)\n",
    "\n",
    "print('\\nWAF en texto:', 'WAF' in string_1)\n",
    "\n",
    "print('\\nTodo en minúscula:', string_1.lower())"
   ]
  },
  {
   "cell_type": "markdown",
   "id": "f112a1fa-8b11-41cd-8746-f9c0ee4a6182",
   "metadata": {},
   "source": [
    "## 5) Trabajando con Booleanos\n",
    "Crea dos variables, una llamda var_1 con valor True y otra llamada var_2 con valor False\n",
    "\n",
    "¿Cuál es el resultado de hacer un \"and\" ente ambas?\n",
    "\n",
    "¿Cuál es el resultado de hacer un \"or\" ente ambas?\n",
    "\n",
    "¿Cuál es el resultado de hacer un \"not\" de var_2?"
   ]
  },
  {
   "cell_type": "code",
   "execution_count": 38,
   "id": "d47b756e-aa7f-4d08-9096-fa3ca9a7fe6c",
   "metadata": {},
   "outputs": [
    {
     "name": "stdout",
     "output_type": "stream",
     "text": [
      "False\n",
      "True\n",
      "True\n"
     ]
    }
   ],
   "source": [
    "var_1 = True\n",
    "var_2 = False\n",
    "\n",
    "# and: se tienen que cumplir las 2, pero solo hay un True, por lo tanto será False. Comprobación:\n",
    "print(var_1 and var_2)\n",
    "\n",
    "# or: con que haya un True sobra, por lo que el resultado será True. Comprobación:\n",
    "print(var_1 or var_2)\n",
    "      \n",
    "# Lo contrario a False es True. Comprobación:\n",
    "print(not var_2)"
   ]
  },
  {
   "cell_type": "markdown",
   "id": "b97a2e67-3179-4606-9445-23fc071ce415",
   "metadata": {
    "tags": []
   },
   "source": [
    "## 6) Trabajando con listas\n",
    "Crea estas dos listas:\n",
    "\n",
    "<li>list_1 = [\"a\", \"b\", \"c\"]\n",
    "\n",
    "<li>list_2 = [1, 2, 3, 4]\n",
    "<br><br>\n",
    "\n",
    "Imprime el primer elemento de la lista list_1\n",
    "\n",
    "Imprime el tercer elemento comenzando por la derecha de list_2\n",
    "    \n",
    "Imprime el número que tenga el valor máximo en list_2\n",
    "    \n",
    "Crea una lista llamada list_cat que sea la concatenación de las dos listas\n",
    "    \n",
    "Añade a list_cat un nuevo elemento con valor 12.5\n",
    "    \n",
    "Imprime la longitud de list_cat   \n",
    "\n",
    "Remplaza el elemento número 3 de list_cat por el valor \"x\"\n",
    "    \n",
    "Elimina el item con índice 2 de list_cat\n",
    "    \n",
    "Crea una nueva variable que se llame list_1_sorted con la lista 1 ordenada"
   ]
  },
  {
   "cell_type": "code",
   "execution_count": 16,
   "id": "ea4c2abd-5c18-4e91-b878-6ac1e456040e",
   "metadata": {},
   "outputs": [
    {
     "name": "stdout",
     "output_type": "stream",
     "text": [
      "Primer elemento: a\n",
      "Tercer elemento derecha: 2\n",
      "Valor máximo: 4\n",
      "Longitud lista: 8\n"
     ]
    }
   ],
   "source": [
    "list_1 = [\"a\", \"b\", \"c\"]\n",
    "list_2 = [1, 2, 3, 4]\n",
    "\n",
    "\n",
    "print('Primer elemento:', list_1[0])\n",
    "\n",
    "print('Tercer elemento derecha:', list_2[-3])\n",
    "\n",
    "print('Valor máximo:', max(list_2))\n",
    "\n",
    "list_cat = list_1 + list_2\n",
    "\n",
    "list_cat.append(12.5)\n",
    "\n",
    "print('Longitud lista:', len(list_cat))\n",
    "\n",
    "list_cat[2] = 'x'   # Entiendo que se refiere a reemplazar la 3ª posición, que es el índice 2. Si fuera buscar el nº 3, estaría en el índice 5: list_cat[5]\n",
    "\n",
    "list_cat.pop(2)     # del list_cat[2] haría lo mismo y puede eliminar una sección [1:3], pero 'pop' puede almacenar el valor que se borra\n",
    "\n",
    "list_1_sorted = sorted(list_1)      # '.sort' modificaría la lista original, sin tener que crear una nueva variable."
   ]
  },
  {
   "cell_type": "markdown",
   "id": "f9fef494-7cb0-4164-9dd8-fc0b04d26f7d",
   "metadata": {},
   "source": [
    "## 6) Trabajando con tuplas\n",
    "\n",
    "Intenta hacer todos los pasos anteriores pero usando tuplas, algunos de ellos fallarán, explica brevemente por qué ocurre esto y cuál es la utilidad de este comportamiento."
   ]
  },
  {
   "cell_type": "code",
   "execution_count": 27,
   "id": "84db6b5b-ad13-4ae5-ac8b-82359447e3b0",
   "metadata": {},
   "outputs": [
    {
     "name": "stdout",
     "output_type": "stream",
     "text": [
      "Primer elemento: a\n",
      "Tercer elemento derecha: 2\n",
      "Valor máximo: 4\n",
      "Longitud lista: 7\n"
     ]
    }
   ],
   "source": [
    "tuple_1 = tuple([\"a\", \"b\", \"c\"])\n",
    "tuple_2 = tuple([1, 2, 3, 4])\n",
    "\n",
    "\n",
    "print('Primer elemento:', tuple_1[0])           # Funciona\n",
    "\n",
    "print('Tercer elemento derecha:', tuple_2[-3])  # Funciona\n",
    "\n",
    "print('Valor máximo:', max(tuple_2))            # Funciona\n",
    "\n",
    "tuple_cat = tuple_1 + tuple_2                   # Funciona (creas una nueva tupla)\n",
    "\n",
    "# tuple_cat.append(12.5)\n",
    "    # No funciona porque las tuplas son inmutables, es decir, no puede variar su contenido; habría que crear una nueva tupla, o jugar con la conversión tupla-lista-tupla\n",
    "    # Su objetivo es diverso: \n",
    "        # integridad de los datos, \n",
    "        # hashability (usarse como claves de diccionarios),\n",
    "        # y principalmente se busca su eficiencia, pues se almacenan en un solo bloque de memoria, por lo que son más rápidas y están optimizadas\n",
    "\n",
    "print('Longitud lista:', len(tuple_cat))        # Funciona\n",
    "\n",
    "# tuple_cat[5] = 'x'\n",
    "    # Igual que antes, su inmutabilidad no permite reemplazar uno de sus valores\n",
    "\n",
    "# tuple_cat.pop(2)\n",
    "    # Esa inmutabilidad tampoco permite eliminar uno de sus elementos\n",
    "\n",
    "tuple_1_sorted = sorted(tuple_1)                # Funciona (devuelve una nueva lista ordenada, la tupla original no varía)"
   ]
  },
  {
   "cell_type": "markdown",
   "id": "5155fb89-0213-4d4d-aa06-85b11009e5b9",
   "metadata": {},
   "source": [
    "## 7) Trabajando con diccionarios\n",
    "Crea un diccionario vacío y rellénalo con estos datos (entendiéndose como pares clave-valor):\n",
    "<li> \"58195348N\": \"Pepito Pérez\"\n",
    "<li> \"96173220P\": \"Juanito Martínez\"\n",
    "<li> \"43740289Q\": \"Adolfo Rodríguez\"\n",
    "<li> \"41588605M\": \"Roberto García\"\n",
    "<br><br>\n",
    "    \n",
    "Consulta el diccionario, ¿Cuál es el nombre de la persona con DNI \"96173220P\"?\n",
    "\n",
    "Cambia el nombre asociado a la clave \"41588605M\" por \"Roberto Martínez\"\n",
    "    \n",
    "Elimina la entrada correspondiente a la clave \"96173220P\"\n",
    "    \n",
    "Imprime la longitud del diccionario\n",
    "    \n",
    "Imprime si la clave \"99114051J\" está o no en el diccionario (True o False)\n",
    "    \n",
    "Imprime las claves del diccionario\n",
    "    \n",
    "Imprime los valores del diccionario\n",
    "    \n",
    "Haz una copia del diccionario en una nueva variable de manera que si modifico los valores en esta nueva variable no se modifique la original"
   ]
  },
  {
   "cell_type": "code",
   "execution_count": 33,
   "id": "d8fd64e4-b69a-4088-85a7-9b30b9b59f89",
   "metadata": {},
   "outputs": [
    {
     "name": "stdout",
     "output_type": "stream",
     "text": [
      "El nombre de la persona con DNI 96173220P es: Juanito Martínez\n",
      "La longitud del diccionario es: 3\n",
      "¿Está el DNI 99114051J en el diccionario?: False\n",
      "Claves: dict_keys(['58195348N', '43740289Q', '41588605M'])\n",
      "Valores: dict_values(['Pepito Pérez', 'Adolfo Rodríguez', 'Roberto Martínez'])\n"
     ]
    }
   ],
   "source": [
    "diccionario = {}\n",
    "\n",
    "datos = {\"58195348N\": \"Pepito Pérez\",\n",
    "\"96173220P\": \"Juanito Martínez\",\n",
    "\"43740289Q\": \"Adolfo Rodríguez\",\n",
    "\"41588605M\": \"Roberto García\"}\n",
    "# Rellenándolo con los nuevos datos\n",
    "diccionario.update(datos)\n",
    "\n",
    "print('El nombre de la persona con DNI 96173220P es:', diccionario['96173220P'])   # También se puede usar .get('DNI', 'ese DNI no existe') para evitar un error en caso de que ese DNI no exista\n",
    "\n",
    "diccionario['41588605M'] = 'Roberto Martínez'\n",
    "\n",
    "del diccionario['96173220P']\n",
    "\n",
    "print('La longitud del diccionario es:', len(diccionario))\n",
    "\n",
    "print('¿Está el DNI 99114051J en el diccionario?:', '99114051J' in diccionario)\n",
    "\n",
    "print('Claves:', diccionario.keys())        # Para obtener un resultado más visual, de una lsita de claves, podríamos hacer list(diccionario.keys())\n",
    "\n",
    "print('Valores:', diccionario.values())     # Aquí igual que arriba, list(diccionario.values())\n",
    "\n",
    "nuevo_diccionario = diccionario.copy()"
   ]
  },
  {
   "cell_type": "markdown",
   "id": "2c71d523-7b35-429c-8ae0-fc136e3ea353",
   "metadata": {},
   "source": [
    "## 8) Trabajando con conjuntos\n",
    "Crea una lista con los siguientes valores\n",
    "<li>[1,2,2,2,3,2,3,5,1]\n",
    "<br><br>\n",
    "\n",
    "Convierte esta lista a otra lista que no contenga elementos repetidos\n",
    "\n",
    "Crea los dos siguientes conjuntos:\n",
    "<li>conj_1 = {1,2,3,4,5}\n",
    "<li>conj_2 = {3,4,5,6,7}\n",
    "<br><br>\n",
    "    \n",
    "Comprueba si el elemento 10 está en el conjunto 1\n",
    "\n",
    "¿Son conjuntos disjuntos?\n",
    "\n",
    "¿Es conj_1 un subconjunto de conj_2?\n",
    "    \n",
    "Calcula los elementos que estén en conj_1 pero no en conj_2\n",
    "    \n",
    "Calcula los elementos comunes a ambos conjuntos"
   ]
  },
  {
   "cell_type": "code",
   "execution_count": 37,
   "id": "992c7201-dcc2-4060-bae1-df69714ee1ca",
   "metadata": {},
   "outputs": [
    {
     "name": "stdout",
     "output_type": "stream",
     "text": [
      "¿10 en conjunto 1?: False\n",
      "¿Son conjuntos disjuntos?: False\n",
      "¿Es conj_1 un subconjunto de conj_2?: False\n",
      "Elementos en conjunto 1 y no en 2: {1, 2}\n",
      "Elementos comunes: {3, 4, 5}\n"
     ]
    }
   ],
   "source": [
    "lista_1 = [1,2,2,2,3,2,3,5,1]\n",
    "\n",
    "lista_no_repetidos = list(set(lista_1))    # Un set (conjunto) no permite los números repetidos, de ahí su valor en ciertas situaciones\n",
    "\n",
    "\n",
    "conj_1 = {1,2,3,4,5}\n",
    "conj_2 = {3,4,5,6,7}\n",
    "\n",
    "print('¿10 en conjunto 1?:', 10 in conj_1)\n",
    "\n",
    "print('¿Son conjuntos disjuntos?:', conj_1.isdisjoint(conj_2))    # True = disjunto (no coincide ningún elemento); False = algún elemento coincide\n",
    "\n",
    "print('¿Es conj_1 un subconjunto de conj_2?:', conj_1.issubset(conj_2))      # True = todos los elementos de conj_1 están en conj_2; False = si no están todos\n",
    "\n",
    "print('Elementos en conjunto 1 y no en 2:', conj_1.difference(conj_2))\n",
    "\n",
    "print('Elementos comunes:', conj_1.intersection(conj_2))"
   ]
  },
  {
   "cell_type": "markdown",
   "id": "409ba1ac-5191-461e-8509-68a2373f5922",
   "metadata": {},
   "source": [
    "## 9) Trabajando con if, if-else, if-elif\n",
    "Tenemos dos variables, les asignamos inicialmente estos valores:\n",
    "<li>var_1 = [0, 1]\n",
    "<li>var_2 = [0,1,2,3,4,5]\n",
    "<br><br>\n",
    "\n",
    "Implementar la siguiente lógica:\n",
    "<li>Si la longitud de var_1 es mayor que la de var_2 imprimimos \"var_1 tiene longitud mayor que var_2\"\n",
    "<li>Si la condición anterior no se cumple y la longitud de var_1 es igual que la de var_2 imprimimos \"var_1 tiene longitud igual que var_2\"\n",
    "<li> Si la condición anterior no se cumple y si el elemento en el índice 0 de var_1 es igual al elemento del índice 0 de var_2 imprimimos \"Ambas listas comienzan por el mismo valor\"\n",
    "<li>Si no se cumple nada de lo anterior imprimimos \"No se cumple ninguna de las condiciones\"\n",
    "<br><br>\n",
    "<li> Si el elemento en el índice 0 de var_1 es igual al elemento del índice 0 de var_2 y el elemento en el índice 1 de var_1 es igual al elemento del índice 1 de var_2 imprimimos \"Ambas listas comienzan por los dos mismos valores\"\n",
    "<li> Si la condición anterior no se cumple, imprimimos: \"Al menos uno de los dos primero valores de ambas listas son diferentes\"\n",
    "<br><br>"
   ]
  },
  {
   "cell_type": "code",
   "execution_count": 30,
   "id": "1663b871-b7b5-4894-906b-fab2fc78b3dc",
   "metadata": {},
   "outputs": [
    {
     "name": "stdout",
     "output_type": "stream",
     "text": [
      "Ambas listas comienzan por el mismo valor\n",
      "Ambas listas comienzan por los dos mismos valores\n"
     ]
    }
   ],
   "source": [
    "var_1 = [0, 1]\n",
    "var_2 = [0,1,2,3,4,5]\n",
    "\n",
    "if len(var_1) > len(var_2):\n",
    "    print(\"var_1 tiene longitud mayor que var_2\")\n",
    "elif len(var_1) == len(var_2):\n",
    "    print(\"var_1 tiene longitud igual que var_2\")\n",
    "elif var_1[0] == var_2[0]:\n",
    "    print(\"Ambas listas comienzan por el mismo valor\")\n",
    "else:\n",
    "    print(\"No se cumple ninguna de las condiciones\")\n",
    "\n",
    "    # Otro conjunto if-else\n",
    "if var_1[0] == var_2[0] and var_1[1] == var_2[1]:\n",
    "    print(\"Ambas listas comienzan por los dos mismos valores\")\n",
    "else:\n",
    "    print(\"Al menos uno de los dos primero valores de ambas listas son diferentes\")"
   ]
  },
  {
   "cell_type": "markdown",
   "id": "1bb0bc9c-495b-4026-afcd-57e64c1a16f7",
   "metadata": {},
   "source": [
    "## 10) Trabajando con for y while\n",
    "\n",
    "Tenemos las siguientes listas:\n",
    "<li>char_list = [\"a\", \"b\", \"c\", \"d\"]\n",
    "<li>num_list = [1, 2, 3, 4]\n",
    "<br><br>\n",
    "\n",
    "Realizar un bucle for que recorra num_list e imprima sus valores y además el caracter que se encuentra en la misma posición en char_list"
   ]
  },
  {
   "cell_type": "code",
   "execution_count": 48,
   "id": "f1f73546-1f88-4532-a76e-b8ae89cc31b3",
   "metadata": {},
   "outputs": [
    {
     "name": "stdout",
     "output_type": "stream",
     "text": [
      "1 a\n",
      "2 b\n",
      "3 c\n",
      "4 d\n"
     ]
    }
   ],
   "source": [
    "char_list = [\"a\", \"b\", \"c\", \"d\"]\n",
    "num_list = [1, 2, 3, 4]\n",
    "\n",
    "for num, char in zip(num_list, char_list):\n",
    "    print(num, char)\n",
    "    \n",
    "        # Alternativa:\n",
    "# for i in range(len(num_list)):\n",
    "#     print(num_list[i], char_list[i])"
   ]
  },
  {
   "cell_type": "markdown",
   "id": "44a32335-c5a7-4205-8509-faf493c60b51",
   "metadata": {},
   "source": [
    "Crear un bucle while que mientras el máximo valor de num_list sea menor a 10 siga iterando, pero que en cada iteración añada un elemento a la lista cuyo valor sea una unidad mayor al valor máximo que haya en ese momento en num_list. Por ejemplo, el primer valor que se añadiría sería 5, el siguiente 6 y así sucesivamente:"
   ]
  },
  {
   "cell_type": "code",
   "execution_count": 6,
   "id": "d8b51e59-da2f-463a-8306-85b0216701af",
   "metadata": {},
   "outputs": [
    {
     "name": "stdout",
     "output_type": "stream",
     "text": [
      "[1, 2, 3, 4, 5, 6, 7, 8, 9, 10]\n"
     ]
    }
   ],
   "source": [
    "num_list = [1, 2, 3, 4]\n",
    "\n",
    "while max(num_list) < 10:\n",
    "    max_num = max(num_list) + 1\n",
    "    num_list.append(max_num)\n",
    "print(num_list)\n",
    "\n",
    "# El máximo valor añadido sería 10, pues el número más alto que cumple la condición < 10 es 9 y... -> (9) + 1 = 10."
   ]
  }
 ],
 "metadata": {
  "kernelspec": {
   "display_name": "Python 3 (ipykernel)",
   "language": "python",
   "name": "python3"
  },
  "language_info": {
   "codemirror_mode": {
    "name": "ipython",
    "version": 3
   },
   "file_extension": ".py",
   "mimetype": "text/x-python",
   "name": "python",
   "nbconvert_exporter": "python",
   "pygments_lexer": "ipython3",
   "version": "3.9.13"
  }
 },
 "nbformat": 4,
 "nbformat_minor": 5
}
