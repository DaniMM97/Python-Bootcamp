{
 "cells": [
  {
   "cell_type": "markdown",
   "id": "ca20d9ff-d0a9-4bc9-a493-94bc574af749",
   "metadata": {},
   "source": [
    "# Completa las celdas vacías implementando la funcionalidad pedida\n",
    "\n",
    "<b>Nota</b>: En el caso de las funciones, no solo se debe implementar la función, sino además probarla\n",
    "\n",
    "<b>Nota 2</b>: Poner una docstring en cada función que explique su funcionalidad, argumentos de entrada, retorno, etc.\n",
    "\n",
    "## 1) Escribe una función que reciba como argumento un string y lo imprima"
   ]
  },
  {
   "cell_type": "markdown",
   "id": "a64b96be",
   "metadata": {},
   "source": [
    "Los docstrings los pondré en el ejercicio 7, no obstante, en cada bloque de código haré comentarios sueltos para aclararme yo mismo con las partes más 'complejas' del código para próximas lecturas."
   ]
  },
  {
   "cell_type": "code",
   "execution_count": 3,
   "id": "e62bb91a-b35f-4dcd-96f4-b99b7b29de4d",
   "metadata": {},
   "outputs": [
    {
     "name": "stdout",
     "output_type": "stream",
     "text": [
      "Esto es un string a traves de una funcion en Python\n"
     ]
    }
   ],
   "source": [
    "def print_string(texto):\n",
    "\n",
    "    print(texto)\n",
    "\n",
    "print_string('Esto es un string a traves de una funcion en Python')"
   ]
  },
  {
   "cell_type": "markdown",
   "id": "f83aa014-3eac-45c6-be28-7b0d85126712",
   "metadata": {},
   "source": [
    "## 2) Trabajando con listas de entrada\n",
    "Escribe una función que implemente la siguiente funcionalidad\n",
    "\n",
    "La función recibe un solo argumento, que es una lista de números. \n",
    "\n",
    "De esa lista la función imprime aquellos números que sean divisibles por 5."
   ]
  },
  {
   "cell_type": "code",
   "execution_count": 4,
   "id": "ce231f2b-877f-4da2-9f31-d9d2d6f2ed88",
   "metadata": {},
   "outputs": [
    {
     "name": "stdout",
     "output_type": "stream",
     "text": [
      "5\n",
      "10\n",
      "550\n"
     ]
    }
   ],
   "source": [
    "def divisible_by_five(numbers):\n",
    "\n",
    "    for number in numbers:          # iteramos sobre todos los numeros de la lista que elijamos\n",
    "        if number % 5 == 0:         # % calcula el resto, si divides entre 5 y el resto es 0, satisface nuestra condicion \n",
    "            print(number)\n",
    "\n",
    "list_1 = [1,5,7,8.5,10,15.85,17,550]   # ponemos los valores que queramos\n",
    "\n",
    "divisible_by_five(list_1)           # la función recibe el argumento, que es nuestra lista"
   ]
  },
  {
   "cell_type": "markdown",
   "id": "f25421da-ef26-47bb-94d3-b2f5ed6dedf5",
   "metadata": {},
   "source": [
    "## 3) Trabajando con el retorno de una función\n",
    "\n",
    "Reprogramar la función anterior para que en lugar de imprimir los valores, los devuelva en forma de lista"
   ]
  },
  {
   "cell_type": "code",
   "execution_count": 11,
   "id": "519acfaf",
   "metadata": {},
   "outputs": [
    {
     "name": "stdout",
     "output_type": "stream",
     "text": [
      "[5, 10, 550]\n"
     ]
    }
   ],
   "source": [
    "def divisible_by_five_2(numbers):\n",
    "\n",
    "    list_empty = []                     # creamos la lista vacia donde se añadirán los nº\n",
    "    for number in numbers:        \n",
    "        if number % 5 == 0:  \n",
    "            list_empty.append(number)   # añadimos los nº divisibles a nuestra lista\n",
    "    return list_empty\n",
    "\n",
    "list_1 = [1,5,7,8.5,10,15.85,17,550]\n",
    "\n",
    "print(divisible_by_five_2(list_1))"
   ]
  },
  {
   "cell_type": "markdown",
   "id": "f868b72f-801c-4472-b89f-4124c1b9f3b0",
   "metadata": {},
   "source": [
    "## 4) Trabajando con múltiples argumentos\n",
    "\n",
    "Escribe una función que implemente la siguiente funcionalidad\n",
    "\n",
    "La función recibe 3 argumentos que pueden ser números o strings\n",
    "\n",
    "La función devuelve un string con el valor de los 3 argumentos concatenados uno tras otro con el caracter \"_\"\n",
    "\n",
    "Ejemplo:\n",
    "\n",
    "<b>Entrada</b>:\n",
    "<ul>\n",
    "    <li>1</li>\n",
    "    <li>\"a\"</li>\n",
    "    <li>72</li>\n",
    "</ul>\n",
    "\n",
    "\n",
    "<b>Salida</b>:\n",
    "\n",
    "\"1_a_72\""
   ]
  },
  {
   "cell_type": "code",
   "execution_count": 14,
   "id": "1061baf9-b723-4851-9991-5867f946e0b7",
   "metadata": {},
   "outputs": [
    {
     "name": "stdout",
     "output_type": "stream",
     "text": [
      "1_a_72\n"
     ]
    }
   ],
   "source": [
    "def concatenate_args(a, b, c):\n",
    "\n",
    "    return str(a) + \"_\" + str(b) + \"_\" + str(c)     # Simplemente casteamos a str para que la salida sea otro string y no haya errores y usamos '_' para juntarlos\n",
    "\n",
    "print(concatenate_args(1, 'a', 72))"
   ]
  },
  {
   "cell_type": "markdown",
   "id": "f112a1fa-8b11-41cd-8746-f9c0ee4a6182",
   "metadata": {},
   "source": [
    "## 5) Trabajando con argumentos opcionales\n",
    "\n",
    "Escribe una función que reciba 4 argumentos:\n",
    "\n",
    "<ul>\n",
    "    <li> x: Un número </li> \n",
    "    <li> y: Otro número </li> \n",
    "    <li> op: Un string cuyo valor por defecto sea \"add\" </li> \n",
    "    <li> ret_type: Un string cuyo valor por defecto sea \"int\" </li> \n",
    "</ul>\n",
    "\n",
    "Esa función debe aplicar a \"x\" e \"y\" la operación que corresponda según el valor de \"op\".\n",
    "<ul>\n",
    "    <li> Si op == \"add\" los suma </li> \n",
    "    <li> Si op == \"sub\" los resta </li> \n",
    "    <li> Si op == \"mul\" los multiplica </li> \n",
    "    <li> Si op == \"div\" los divide </li> \n",
    "</ul>\n",
    "\n",
    "Y luego debe de retornar en resultado de la operación anterior:\n",
    "<ul>\n",
    "    <li> Si ret_type == \"int\" lo retorna en forma de número entero redondeando el resultado </li> \n",
    "    <li> Si ret_type == \"float\" lo retorna en forma de float </li> \n",
    "    <li> Si ret_type == \"str\" retorna un string con el valor del número en él</li> \n",
    "</ul>\n",
    "\n",
    "Llama a la función al menos de 5 maneras diferentes y en algunos de los casos deja que los valores sean los que fija por defecto en los argumentos opcionales.\n"
   ]
  },
  {
   "cell_type": "code",
   "execution_count": 17,
   "id": "1904fe4d-a0c7-4f72-99e1-1ff40a00bbe4",
   "metadata": {},
   "outputs": [
    {
     "name": "stdout",
     "output_type": "stream",
     "text": [
      "15\n",
      "34\n",
      "15.0\n",
      "5.0\n",
      "2.5\n"
     ]
    }
   ],
   "source": [
    "def calculator(x, y, op='add', ret_type='int'):     # valores predeterminados para op y ret_type\n",
    "\n",
    "    if op == 'add':\n",
    "        result = x + y\n",
    "    elif op == 'sub':\n",
    "        result = x - y\n",
    "    elif op == 'mul':\n",
    "        result = x * y\n",
    "    elif op == 'div':\n",
    "        result = x / y\n",
    "    else:\n",
    "        return 'usa solamente add, sub, mul o div'\n",
    "    \n",
    "    if ret_type == 'int':\n",
    "        return int(round(result))\n",
    "    elif ret_type == 'float':\n",
    "        return float(result)\n",
    "    elif ret_type == 'str':\n",
    "        return str(result)\n",
    "    else:\n",
    "        return 'usa solamente int, float o str'\n",
    "\n",
    "print(calculator(10.55, 4))        # valores predeterminados\n",
    "print(calculator(4.25, 8, 'mul'))\n",
    "print(calculator(10, 5, ret_type='float'))\n",
    "print(calculator(100, 20, 'div', 'str'))\n",
    "print(calculator(23, 20.5, op='sub', ret_type='float'))"
   ]
  },
  {
   "cell_type": "markdown",
   "id": "ea3fa94e-d2ed-496b-9551-b936a622e6a2",
   "metadata": {},
   "source": [
    "## 6) Trabajando con número indefinido de argumentos\n",
    "\n",
    "Programa, una función que reciba un primer argumento llamado \"op\" con los valores posibles que definimos en el ejercicio anterior y luego reciba un número indeterminado de argumentos cuyo valor esperado son números\n",
    "\n",
    "Esta función debe de aplicar esa operación deseada al resto de argumentos en el orden indicado y devolver el resultado de dicha operación.\n",
    "\n",
    "Ejemplo de como tendría que funcionar esta función:\n",
    "\n",
    "\\>\\> apply_op(op=\"add\", 1, 1, 3)\n",
    "\n",
    "5"
   ]
  },
  {
   "cell_type": "code",
   "execution_count": 21,
   "id": "fc3d1c85-f22a-4da9-9c2c-7826050bc25e",
   "metadata": {},
   "outputs": [
    {
     "data": {
      "text/plain": [
       "3600.0"
      ]
     },
     "execution_count": 21,
     "metadata": {},
     "output_type": "execute_result"
    }
   ],
   "source": [
    "def calculator_2(op, *args):\n",
    "\n",
    "    result = args[0]    # cogemos el 1º num y a partir de ahi hacemos los calculos\n",
    "    \n",
    "    for number in args[1:]:     # con el resto de números hacemos la operación en cuestión sobre el 1º num\n",
    "        if op == 'add':\n",
    "            result += number\n",
    "        elif op == 'sub':\n",
    "            result -= number\n",
    "        elif op == 'mul':\n",
    "            result *= number\n",
    "        elif op == 'div':\n",
    "            result /= number\n",
    "        else:\n",
    "            return 'usa solamente add, sub, mul o div'\n",
    "\n",
    "    return result\n",
    "    \n",
    "calculator_2('mul', 100, 4, 6, 1.5)   # no puedes poner 'op=' primero, pq la palabra clave tiene que ir despues de los argumentos posicionales"
   ]
  },
  {
   "cell_type": "markdown",
   "id": "47833051-6034-41bb-b37c-36f361a515e1",
   "metadata": {},
   "source": [
    "## 7) Documentación de funciones\n",
    "\n",
    "Escribe una docstring para cada una de las funciones implementadas hasta el momento"
   ]
  },
  {
   "cell_type": "code",
   "execution_count": 105,
   "id": "e84a62f1-4ad7-43cd-96c6-b848a4f960cb",
   "metadata": {},
   "outputs": [],
   "source": [
    "#1\n",
    "def print_string(texto):\n",
    "    \"\"\"\n",
    "    Imprime el texto que indicamos en el argumento.\n",
    "\n",
    "    Parameters:\n",
    "    - texto (str): El texto que se imprimira.\n",
    "\n",
    "    Returns:\n",
    "    None (hay un print, no un return)\n",
    "    \"\"\"\n",
    "pass\n",
    "\n",
    "#2\n",
    "def divisible_by_five(numbers):\n",
    "    \"\"\"\n",
    "    Imprime los numeros de una lista que son divisibles por cinco (resto = 0).\n",
    "\n",
    "    Parameters:\n",
    "    - numbers (list): Una lista cualquiera de numeros.\n",
    "\n",
    "    Returns:\n",
    "    None (no hay return, el print imprime los numeros divisibles por 5, uno a uno)\n",
    "    \"\"\"\n",
    "\n",
    "#3\n",
    "def divisible_by_five_2(numbers):\n",
    "    \"\"\"\n",
    "    Encuentra y devuelve, en forma de lista, los numeros de una lista que son divisibles por 5 (resto = 0).\n",
    "\n",
    "    Parameters:\n",
    "    - numbers (list): Una lista cualquiera de numeros.\n",
    "\n",
    "    Returns:\n",
    "    list: Una nueva lista que contiene los numeros de la lista original que son divisibles por 5.\n",
    "    \"\"\"\n",
    "pass\n",
    "\n",
    "#4\n",
    "def concatenate_args(a, b, c):\n",
    "    \"\"\"\n",
    "    Concatena tres argumentos separados por barrabaja en un solo string.\n",
    "\n",
    "    Parameters:\n",
    "    - a: puede ser un numero o un string.\n",
    "    - b: puede ser un numero o un string.\n",
    "    - c: puede ser un numero o un string.\n",
    "\n",
    "    Returns:\n",
    "    str: Un string creado a partir de la concatenacion de los tres argumentos separados por barrabaja.\n",
    "    \"\"\"\n",
    "        \n",
    "#5 \n",
    "def calculator(x, y, op='add', ret_type='int'):     # valores predeterminados para op y ret_type\n",
    "    \"\"\"\n",
    "    Realiza operaciones matematicas (+,-,*,/) con dos numeros y devuelve el resultado.\n",
    "\n",
    "    Parameters:\n",
    "    - x (float or int): El primer numero a calcular.\n",
    "    - y (float or int): El segundo numero.\n",
    "    - op (str): Operación a realizar ('add', 'sub', 'mul' o 'div'). Valor predeterminado: 'add'.\n",
    "    - ret_type (str): Tipo de dato que te devuelve ('int', 'float' o 'str'). Valor predeterminado: 'int'.\n",
    "\n",
    "    Returns:\n",
    "    float, int, or str: El resultado de la operación entre 'x' e 'y' con el tipo de dato indicado. O un string si la palabra no es valida.\n",
    "    \"\"\"\n",
    "pass\n",
    "   \n",
    "#6\n",
    "def calculator_2(op, *args):\n",
    "    \"\"\"\n",
    "    Realiza operaciones matematicas sucesivas sobre los numeros indicados y devuelve el resultado.\n",
    "\n",
    "    Parameters:\n",
    "    - op (str): Operación a realizar ('add', 'sub', 'mul' o 'div').\n",
    "    - args (float or int): Numeros sobre los que se realizan las operaciones.\n",
    "\n",
    "    Returns:\n",
    "    float or int: El resultado de la operación sucesiva sobre los numeros proporcionados.\n",
    "    \"\"\"\n",
    "pass\n",
    "  \n",
    "#8\n",
    "def create_string(words_list):\n",
    "    \"\"\"\n",
    "    Crea una nueva lista a partir de una lista de strings, donde el ultimo elemento es una palabra formada por el primer \n",
    "    caracter de cada string de la lista original.\n",
    "\n",
    "    Parameters:\n",
    "    - words_list (list): Una lista de strings.\n",
    "\n",
    "    Returns:\n",
    "    list: Nueva lista con los elementos originales de words_list más la nueva palabra formada por el primer caracter de cada string.\n",
    "    \"\"\"\n",
    "pass"
   ]
  },
  {
   "cell_type": "markdown",
   "id": "b3e4e4af-6d78-47f5-b6d3-c1d6e83bd434",
   "metadata": {},
   "source": [
    "## 8) Paso por referencia vs paso por valor\n",
    "Crea una función que reciba una lista de strings, y que calcule un nuevo string hecho con el comienzo de cada uno.\n",
    "\n",
    "Ej:\n",
    "\n",
    "[\"hello\", \"Susan\", \"hi\", \"sugar\"] -> \"hShs\"\n",
    "\n",
    "Y que devuelva una lista con ese nuevo elemento añadido al final:\n",
    "\n",
    "Ej: [\"hello\", \"Susan\", \"hi\", \"sugar\", \"hShs\"]\n",
    "\n",
    "Pero que logre esto sin cambiar colateralmente ninguna variable ajena al scope de la función"
   ]
  },
  {
   "cell_type": "code",
   "execution_count": 23,
   "id": "f495ebcc-6711-426e-a3c6-e67a3d2e8e21",
   "metadata": {},
   "outputs": [
    {
     "name": "stdout",
     "output_type": "stream",
     "text": [
      "['My', 'name', 'is', 'Dani', '26', 'Alicante', 'MniD2A']\n"
     ]
    }
   ],
   "source": [
    "def create_string(words_list):\n",
    "    \"\"\"\n",
    "    Crea una nueva lista a partir de una lista de strings, donde el ultimo elemento es una palabra formada por el primer \n",
    "    caracter de cada string de la lista original.\n",
    "\n",
    "    Parameters:\n",
    "    - words_list (list): Una lista de strings.\n",
    "\n",
    "    Returns:\n",
    "    list: Nueva lista con los elementos originales de words_list más la nueva palabra formada por el primer caracter de cada string.\n",
    "    \"\"\"\n",
    "    new_element = ''                            # creamos un nuevo elemento para la lista, de momento vacio\n",
    "    for i in words_list:                        # iteramos sobre la lista de strings (main_list)\n",
    "        new_element += i[0]                     # añadimos la primera letra de cada palabra de nuestra main_list a new_element\n",
    "\n",
    "    new_list = words_list + [new_element]       # [] crea una nueva lista con la nueva palabra, y la añadimos a la existente\n",
    "    return new_list\n",
    "\n",
    "main_list = ['My', 'name', 'is', 'Dani', '26', 'Alicante']\n",
    "print(create_string(main_list))"
   ]
  },
  {
   "cell_type": "markdown",
   "id": "b0aafdab-da34-4de8-8b82-68012cf5d264",
   "metadata": {},
   "source": [
    "## 9) Programación funcional\n",
    "Mediante la operación map y una función lambda programa un código que coja una lista de strings y genere una lista igual pero con el caracter exclamación añadido al final.\n",
    "\n",
    "Ej:\n",
    "\n",
    "[\"hello\", \"Susan\", \"hi\", \"sugar\"] -> [\"hello!\", \"Susan!\", \"hi!\", \"sugar!\"]\n",
    "\n",
    "Haz otro código que haga esto mismo pero usando una \"list comprehension\" (la sintaxis especial que en una sola línea y mediante corchetes crea una lista basada en una lista ya existente)"
   ]
  },
  {
   "cell_type": "code",
   "execution_count": 54,
   "id": "0c4f61d4-9b79-4337-8ed6-e5b8aa7de73c",
   "metadata": {},
   "outputs": [
    {
     "name": "stdout",
     "output_type": "stream",
     "text": [
      "['Red!', 'Orange!', 'Blue!', 'Green!']\n"
     ]
    }
   ],
   "source": [
    "words_list = ['Red', 'Orange', 'Blue', 'Green']\n",
    "\n",
    "exclamation = map(lambda word: word + '!', words_list)  # lambda crea una minifuncion anonima y map aplica esa función a toda la lista\n",
    "\n",
    "print(list(exclamation))"
   ]
  },
  {
   "cell_type": "code",
   "execution_count": 61,
   "id": "5a9b2bed-f6ca-43f4-b207-9d51ca15c7ac",
   "metadata": {},
   "outputs": [
    {
     "name": "stdout",
     "output_type": "stream",
     "text": [
      "['Red!', 'Orange!', 'Blue!', 'Green!']\n"
     ]
    }
   ],
   "source": [
    "words_list = ['Red', 'Orange', 'Blue', 'Green']\n",
    "\n",
    "exclamation = [word + '!' for word in words_list]   # la list comprehension nos permite crear una lista, a traves de un bucle 'for' y sobre los valores seleccionados, en una sola linea\n",
    "\n",
    "print(exclamation)"
   ]
  }
 ],
 "metadata": {
  "kernelspec": {
   "display_name": "Python 3 (ipykernel)",
   "language": "python",
   "name": "python3"
  },
  "language_info": {
   "codemirror_mode": {
    "name": "ipython",
    "version": 3
   },
   "file_extension": ".py",
   "mimetype": "text/x-python",
   "name": "python",
   "nbconvert_exporter": "python",
   "pygments_lexer": "ipython3",
   "version": "3.10.11"
  }
 },
 "nbformat": 4,
 "nbformat_minor": 5
}
